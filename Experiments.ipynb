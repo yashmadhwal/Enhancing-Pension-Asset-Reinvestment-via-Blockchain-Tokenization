{
 "cells": [
  {
   "cell_type": "markdown",
   "id": "f18a52c3",
   "metadata": {},
   "source": [
    "# Experiment Section on the Portfolio Reinvesetment"
   ]
  },
  {
   "cell_type": "markdown",
   "id": "2e226662",
   "metadata": {},
   "source": [
    "<p>\n",
    "    In the code repository, run the code using <code>npx hardhat node</code>\n",
    "</p>\n"
   ]
  },
  {
   "cell_type": "code",
   "execution_count": 1,
   "id": "456dc892",
   "metadata": {},
   "outputs": [],
   "source": [
    "# Importing libraries\n",
    "from web3 import Web3\n",
    "import json\n",
    "import random\n",
    "import string"
   ]
  },
  {
   "cell_type": "markdown",
   "id": "2eb14870",
   "metadata": {},
   "source": [
    "Connecting to Hardhat environment.\n",
    "\n",
    "<i><b>Note:</b> Make sure environment is up and running.</i>"
   ]
  },
  {
   "cell_type": "code",
   "execution_count": 2,
   "id": "d13b6cd5",
   "metadata": {},
   "outputs": [],
   "source": [
    "# connecting to Hardhat node environment\n",
    "# Started HTTP and WebSocket JSON-RPC server at ...\n",
    "HTTP_Server = 'http://127.0.0.1:8545'"
   ]
  },
  {
   "cell_type": "code",
   "execution_count": 3,
   "id": "356e619e",
   "metadata": {},
   "outputs": [
    {
     "name": "stdout",
     "output_type": "stream",
     "text": [
      "isConnected: True\n"
     ]
    }
   ],
   "source": [
    "# Checking the web3 connection\n",
    "web3 = Web3(Web3.HTTPProvider(HTTP_Server))\n",
    "print(\"isConnected:\",web3.is_connected())"
   ]
  },
  {
   "cell_type": "code",
   "execution_count": 4,
   "id": "b807d387",
   "metadata": {},
   "outputs": [],
   "source": [
    "# Asserting that we have correct number of accounts\n",
    "number_of_accounts = 101\n",
    "accounts_list = web3.eth.accounts\n",
    "assert(len(accounts_list) == number_of_accounts)"
   ]
  },
  {
   "cell_type": "code",
   "execution_count": 5,
   "id": "f8b3784f",
   "metadata": {},
   "outputs": [
    {
     "name": "stdout",
     "output_type": "stream",
     "text": [
      "Contract_Owner: 0xf39Fd6e51aad88F6F4ce6aB8827279cffFb92266\n"
     ]
    }
   ],
   "source": [
    "#getting the lists of accounts available, Account[0] will be like contract to which it will deploy smart contract account\n",
    "Contract_Owner = accounts_list[0]\n",
    "\n",
    "print(f'Contract_Owner: {Contract_Owner}')"
   ]
  },
  {
   "cell_type": "code",
   "execution_count": 6,
   "id": "bb542664",
   "metadata": {},
   "outputs": [],
   "source": [
    "# creating instance of the the smart contract\n",
    "# Getting ABI of reinvestment contract\n",
    "with open('artifacts/contracts/ReinvestmentManager.sol/ReinvestmentManager.json') as f:\n",
    "    contract_rm_abi = json.load(f)['abi']\n",
    "\n",
    "# Getting ABI of AssetNFTs contract\n",
    "with open('artifacts/contracts/AssetNFT.sol/AssetNFT.json') as f:\n",
    "    contract_NFTAsset_abi = json.load(f)['abi']"
   ]
  },
  {
   "cell_type": "code",
   "execution_count": 7,
   "id": "d6ffc438",
   "metadata": {},
   "outputs": [],
   "source": [
    "# Deploying the contract: npx hardhat deploy --tags rm --network hardhat\n",
    "# getting Deployed Address... NOTE THIS MIGHT CHANGE, SO MAKE SURE YOU ARE RUNNING CORRECT ADDRESS\n",
    "contract_address = '0x5FbDB2315678afecb367f032d93F642f64180aa3'"
   ]
  },
  {
   "cell_type": "code",
   "execution_count": 8,
   "id": "73ee8981",
   "metadata": {},
   "outputs": [],
   "source": [
    "# Creating Instance of the Smart Contract.\n",
    "rm = web3.eth.contract(address=contract_address, abi = contract_rm_abi)"
   ]
  },
  {
   "cell_type": "markdown",
   "id": "482b93ae",
   "metadata": {},
   "source": [
    "# Creating data sets\n",
    "<p>\n",
    "    <b>630 users:</b> <i>0-629.</i><br>\n",
    "    <b>Salt:</b> <i>Randomly generating string of characters 65 bytes with 0x padded.</i><br>\n",
    "    <b>Balance:</b> <i>Generating balance for 127 users with range 1,000 - 100,000.</i><br>\n",
    "</p>"
   ]
  },
  {
   "cell_type": "code",
   "execution_count": 9,
   "id": "7c1e6749",
   "metadata": {},
   "outputs": [],
   "source": [
    "# functions to generate random data. \n",
    "def generate_random_salt(length=130):\n",
    "    \"\"\"Generate a random hexadecimal string (65 bytes) padded with 0x.\"\"\"\n",
    "    hex_chars = string.hexdigits.lower()\n",
    "    return '0x' + ''.join(random.choice(hex_chars) for _ in range(length))\n",
    "\n",
    "def generate_user_data(num_users=630, min_balance=1000, max_balance=100000):\n",
    "    \"\"\"Generate userIDs, salt, and balance for users.\"\"\"\n",
    "    userIDs = list(range(num_users))\n",
    "    salts = [generate_random_salt() for _ in range(num_users)]\n",
    "    balances = [random.randint(min_balance, max_balance) for _ in range(num_users)]\n",
    "    \n",
    "    return userIDs, salts, balances"
   ]
  },
  {
   "cell_type": "markdown",
   "id": "eedb8e78",
   "metadata": {},
   "source": [
    "# Functions to calculate gas"
   ]
  },
  {
   "cell_type": "code",
   "execution_count": 10,
   "id": "458c96d7",
   "metadata": {},
   "outputs": [],
   "source": [
    "def gas_consumption(**kwargs):    \n",
    "    if kwargs['solo'] == True:\n",
    "        transaction_hash = kwargs['transaction']\n",
    "        receipt = web3.eth.wait_for_transaction_receipt(transaction_hash).gasUsed\n",
    "        return receipt\n",
    "\n",
    "    else:\n",
    "        transaction_hash = kwargs['transaction']\n",
    "        receipt = web3.eth.wait_for_transaction_receipt(transaction_hash).gasUsed\n",
    "        return receipt"
   ]
  },
  {
   "cell_type": "code",
   "execution_count": 11,
   "id": "dc45f62a",
   "metadata": {},
   "outputs": [],
   "source": [
    "# Generate dataset\n",
    "userIDs, salts, balances = generate_user_data()"
   ]
  },
  {
   "cell_type": "code",
   "execution_count": 12,
   "id": "780edb28",
   "metadata": {},
   "outputs": [
    {
     "name": "stdout",
     "output_type": "stream",
     "text": [
      "\n",
      "--- Experiment 1 ---\n",
      "\n",
      "--- Experiment 2 ---\n",
      "\n",
      "--- Experiment 3 ---\n",
      "\n",
      "--- Experiment 4 ---\n",
      "\n",
      "--- Experiment 5 ---\n",
      "\n",
      "--- Experiment 6 ---\n",
      "\n",
      "--- Experiment 7 ---\n",
      "\n",
      "--- Experiment 8 ---\n",
      "\n",
      "--- Experiment 9 ---\n",
      "\n",
      "--- Experiment 10 ---\n"
     ]
    }
   ],
   "source": [
    "# Define subset sizes for each experiment\n",
    "subset_sizes = [1, 2, 4, 8, 16, 32]\n",
    "num_experiments = 10\n",
    "\n",
    "# Initialize dictionary to hold lists for each subset size\n",
    "subset_data = {size: [] for size in subset_sizes}\n",
    "\n",
    "# Run the experiment 10 times\n",
    "start_idx = 0\n",
    "for experiment_num in range(num_experiments):\n",
    "    print(f\"\\n--- Experiment {experiment_num+1} ---\")\n",
    "    \n",
    "    for size in subset_sizes:\n",
    "        end_idx = start_idx + size\n",
    "        \n",
    "        # Collect data for this subset\n",
    "        subset_entry = {\n",
    "            'userIDs': userIDs[start_idx:end_idx],\n",
    "            'salts': salts[start_idx:end_idx],\n",
    "            'balances': balances[start_idx:end_idx]\n",
    "        }\n",
    "\n",
    "        _ = rm.functions.addUserBatch(subset_entry['userIDs'],subset_entry['salts'],subset_entry['balances']).transact({'from':Contract_Owner })\n",
    "        gas_consumed = gas_consumption(transaction = _, solo = False)\n",
    "        \n",
    "        # Append this subset's data to the dictionary\n",
    "        subset_data[size].append(gas_consumed)\n",
    "        \n",
    "        start_idx = end_idx"
   ]
  },
  {
   "cell_type": "markdown",
   "id": "23c6d0b2",
   "metadata": {},
   "source": [
    "# Simulating and calculating gas"
   ]
  },
  {
   "cell_type": "code",
   "execution_count": 32,
   "id": "6f20e09e",
   "metadata": {},
   "outputs": [
    {
     "data": {
      "image/png": "[encoded data removed]",
      "text/plain": [
       "<Figure size 640x480 with 1 Axes>"
      ]
     },
     "metadata": {},
     "output_type": "display_data"
    }
   ],
   "source": [
    "import matplotlib.pyplot as plt\n",
    "import numpy as np\n",
    "\n",
    "# Given data\n",
    "data = subset_data\n",
    "\n",
    "# Calculate means and standard deviations\n",
    "subset_sizes = list(data.keys())\n",
    "means = [np.mean(data[size]) for size in subset_sizes]\n",
    "std_devs = [np.std(data[size]) for size in subset_sizes]\n",
    "\n",
    "# Plotting with logarithmic x-axis\n",
    "plt.errorbar(subset_sizes, means, yerr=std_devs, fmt='m-_', capsize=5, label='Gas Consumption')\n",
    "\n",
    "# Set x-axis to logarithmic scale\n",
    "plt.xscale('log')\n",
    "plt.yscale('log')\n",
    "plt.xticks(subset_sizes, [str(x) for x in subset_sizes])\n",
    "\n",
    "# Adding labels and title\n",
    "plt.xlabel('Adding users of size')\n",
    "plt.ylabel('Gas consumption (in Wei)')\n",
    "# plt.title('Gas Consumption vs Subset Size')\n",
    "# plt.grid(True)\n",
    "\n",
    "#save image\n",
    "plt.savefig(\"image.pdf\", format=\"pdf\", bbox_inches=\"tight\")\n",
    "\n",
    "# Show plot\n",
    "plt.tight_layout()\n",
    "plt.show()\n"
   ]
  },
  {
   "cell_type": "markdown",
   "id": "53df9cc1",
   "metadata": {},
   "source": [
    "## Redundant Code below"
   ]
  },
  {
   "cell_type": "code",
   "execution_count": 14,
   "id": "40ded075",
   "metadata": {},
   "outputs": [],
   "source": [
    "# # Users 0 - 9\n",
    "# data_0_9_users = []\n",
    "# data_0_9_salt = []\n",
    "# data_0_9_balance = []\n",
    "\n",
    "# for i in range(0,10):         \n",
    "#     data_0_9_users.append(userIDs[i])\n",
    "#     data_0_9_salt.append(salts[i])\n",
    "#     data_0_9_balance.append(balances[i])   \n",
    "    \n",
    "# assert(len(data_0_9_users)==10)\n",
    "# assert(len(data_0_9_salt)==10)\n",
    "# assert(len(data_0_9_balance)==10)"
   ]
  },
  {
   "cell_type": "code",
   "execution_count": 15,
   "id": "746c4b75",
   "metadata": {},
   "outputs": [],
   "source": [
    "# # Users 10 - 99\n",
    "# data_10_99_users = []\n",
    "# data_10_99_salt = []\n",
    "# data_10_99_balance = []\n",
    "\n",
    "# for i in range(10,100):         \n",
    "#     data_10_99_users.append(userIDs[i])\n",
    "#     data_10_99_salt.append(salts[i])\n",
    "#     data_10_99_balance.append(balances[i])   \n",
    "    \n",
    "# assert(len(data_10_99_users)==90)\n",
    "# assert(len(data_10_99_salt)==90)\n",
    "# assert(len(data_10_99_balance)==90)"
   ]
  },
  {
   "cell_type": "code",
   "execution_count": 16,
   "id": "a2eff2d1",
   "metadata": {},
   "outputs": [],
   "source": [
    "# # Users 100 - 999\n",
    "# data_100_999_users = []\n",
    "# data_100_999_salt = []\n",
    "# data_100_999_balance = []\n",
    "\n",
    "# for i in range(100,1000):         \n",
    "#     data_100_999_users.append(userIDs[i])\n",
    "#     data_100_999_salt.append(salts[i])\n",
    "#     data_100_999_balance.append(balances[i])  \n",
    "\n",
    "# assert(len(data_100_999_users)==900)\n",
    "# assert(len(data_100_999_salt)==900)\n",
    "# assert(len(data_100_999_balance)==900)"
   ]
  },
  {
   "cell_type": "code",
   "execution_count": 17,
   "id": "2e7466bc",
   "metadata": {},
   "outputs": [],
   "source": [
    "# # Users 1000 - 9999\n",
    "# data_1000_9999_users = []\n",
    "# data_1000_9999_salt = []\n",
    "# data_1000_9999_balance = []\n",
    "\n",
    "# for i in range(1000,10000):         \n",
    "#     data_1000_9999_users.append(userIDs[i])\n",
    "#     data_1000_9999_salt.append(salts[i])\n",
    "#     data_1000_9999_balance.append(balances[i])  \n",
    "    \n",
    "# assert(len(data_1000_9999_users)==9000)\n",
    "# assert(len(data_1000_9999_salt)==9000)\n",
    "# assert(len(data_1000_9999_balance)==9000)"
   ]
  },
  {
   "cell_type": "code",
   "execution_count": 18,
   "id": "b4e12300",
   "metadata": {},
   "outputs": [],
   "source": [
    "# # Adding users and collecting the gas spent\n",
    "# _ = rm.functions.addUserBatch(data_0_9_users,data_0_9_salt,data_0_9_balance).transact({'from':Contract_Owner })\n",
    "# gas_0_9 = gas_consumption(transaction = _, solo = False)"
   ]
  },
  {
   "cell_type": "code",
   "execution_count": 19,
   "id": "8ff90c4d",
   "metadata": {},
   "outputs": [],
   "source": [
    "# # verifing that user length:\n",
    "# expected = len(data_0_9_users)\n",
    "# assert(expected == rm.functions.getUserLength().call())"
   ]
  },
  {
   "cell_type": "code",
   "execution_count": 20,
   "id": "b0aeccd6",
   "metadata": {},
   "outputs": [],
   "source": [
    "# # Adding users and collecting the gas spent\n",
    "# # If parsing 90 people at one go, it will take lots of gas, therefore we split in set of 10 each and do the transaction and collect the gas:\n",
    "# gas_10_99 = []\n",
    "\n",
    "# for i in range(10,100,10):\n",
    "#     data_10_99_users = []\n",
    "#     data_10_99_salt = []\n",
    "#     data_10_99_balance = []\n",
    "#     for j in range(i,i+10):\n",
    "#         # make first set of 10 users \n",
    "#         data_10_99_users.append(userIDs[j])\n",
    "#         data_10_99_salt.append(salts[j])\n",
    "#         data_10_99_balance.append(balances[j])\n",
    "#     # Making transaction    \n",
    "#     _ = rm.functions.addUserBatch(data_10_99_users,data_10_99_salt,data_10_99_balance).transact({'from':Contract_Owner})\n",
    "#     gas_spent = gas_consumption(transaction = _, solo = False)\n",
    "#     gas_10_99.append(gas_spent)\n",
    "    \n"
   ]
  },
  {
   "cell_type": "code",
   "execution_count": 21,
   "id": "05335f1b",
   "metadata": {},
   "outputs": [],
   "source": [
    "# gas_10_99"
   ]
  },
  {
   "cell_type": "code",
   "execution_count": 22,
   "id": "a05d748e",
   "metadata": {},
   "outputs": [],
   "source": [
    "# #verifing that user length:\n",
    "# assert(100 == rm.functions.getUserLength().call())"
   ]
  },
  {
   "cell_type": "code",
   "execution_count": 23,
   "id": "46a41b57",
   "metadata": {
    "scrolled": false
   },
   "outputs": [],
   "source": [
    "# # Adding users and collecting the gas spent\n",
    "# # If parsing 90 people at one go, it will take lots of gas, therefore we split in set of 10 each and do the transaction and collect the gas:\n",
    "# gas_100_999 = []\n",
    "# for i in range(100,1000,10):\n",
    "\n",
    "#     data_100_999_users = []\n",
    "#     data_100_999_salt = []\n",
    "#     data_100_999_balance = []\n",
    "#     for j in range(i,i+10):\n",
    "#         # make first set of 10 users \n",
    "#         data_100_999_users.append(userIDs[j])\n",
    "#         data_100_999_salt.append(salts[j])\n",
    "#         data_100_999_balance.append(balances[j])\n",
    "#     # Making transaction    \n",
    "#     _ = rm.functions.addUserBatch(data_100_999_users,data_100_999_salt,data_100_999_balance).transact({'from':Contract_Owner})\n",
    "#     gas_spent = gas_consumption(transaction = _, solo = False)\n",
    "#     gas_100_999.append(gas_spent)\n",
    "\n"
   ]
  },
  {
   "cell_type": "code",
   "execution_count": 24,
   "id": "3e7edc63",
   "metadata": {
    "scrolled": true
   },
   "outputs": [],
   "source": [
    "# #verifing that user length:\n",
    "# assert(1000 == rm.functions.getUserLength().call())"
   ]
  },
  {
   "cell_type": "code",
   "execution_count": 25,
   "id": "2247ee4a",
   "metadata": {},
   "outputs": [],
   "source": [
    "# # Adding users and collecting the gas spent\n",
    "# # If parsing 90 people at one go, it will take lots of gas, therefore we split in set of 10 each and do the transaction and collect the gas:\n",
    "# gas_1000_9999 = []\n",
    "# for i in range(1000,10000,10):\n",
    "#     data_1000_9999_users = []\n",
    "#     data_1000_9999_salt = []\n",
    "#     data_1000_9999_balance = []\n",
    "#     for j in range(i,i+10):\n",
    "#         # make first set of 10 users \n",
    "#         data_1000_9999_users.append(userIDs[j])\n",
    "#         data_1000_9999_salt.append(salts[j])\n",
    "#         data_1000_9999_balance.append(balances[j])\n",
    "# #     print(data_1000_9999_users)\n",
    "#     # Making transaction    \n",
    "#     _ = rm.functions.addUserBatch(data_1000_9999_users,data_1000_9999_salt,data_1000_9999_balance).transact({'from':Contract_Owner})\n",
    "#     gas_spent = gas_consumption(transaction = _, solo = False)\n",
    "#     gas_1000_9999.append(gas_spent)\n",
    "    "
   ]
  },
  {
   "cell_type": "code",
   "execution_count": 26,
   "id": "66ac92aa",
   "metadata": {},
   "outputs": [],
   "source": [
    "# assert(10000 == rm.functions.getUserLength().call())\n",
    "# rm.functions.getUserLength().call()"
   ]
  },
  {
   "cell_type": "code",
   "execution_count": 27,
   "id": "fccb3c8e",
   "metadata": {},
   "outputs": [],
   "source": [
    "# gas_0_9 = [7707045]\n",
    "# len(gas_0_9)"
   ]
  },
  {
   "cell_type": "code",
   "execution_count": 28,
   "id": "fa88a8f9",
   "metadata": {},
   "outputs": [],
   "source": [
    "# gas_10_99 = [7769485,7769521,7769533,7769521,7769533,7769521,7769569,7769521,7769509]\n",
    "# len(gas_10_99)"
   ]
  },
  {
   "cell_type": "code",
   "execution_count": 29,
   "id": "cd50e5c1",
   "metadata": {},
   "outputs": [],
   "source": [
    "# gas_100_999 = [7769545,7769521,7769545,7769545,7769509,7769521,7769509,7769533,7769521,7769509,7769533,7769533,7769521,7769497,7769545,7769581,7769629,7769641,7769641,7769653,7769641,7769653,7769629,7769641,7769617,7769665,7769665,7769641,7769653,7769653,7769629,7769677,7769653,7769677,7769629,7769641,7769617,7769629,7769617,7769665,7769641,7769653,7769629,7769653,7769641,7769641,7769665,7769641,7769701,7769641,7769653,7769653,7769617,7769653,7769677,7769641,7769653,7769653,7769641,7769629,7769617,7769653,7769617,7769689,7769653,7769653,7769617,7769641,7769665,7769653,7769653,7769665,7769641,7769653,7769641,7769617,7769641,7769653,7769641,7769653,7769665,7769629,7769665,7769653,7769653,7769629,7769641,7769653,7769677,7769653]\n",
    "# len(gas_100_999)"
   ]
  },
  {
   "cell_type": "code",
   "execution_count": 30,
   "id": "551ef425",
   "metadata": {},
   "outputs": [],
   "source": [
    "# gas_1000_9999 = [7769629,7769677,7769641,7769629,7769653,7769629,7769653,7769605,7769653,7769629,7769653,7769689,7769641,7769641,7769629,7769677,7769665,7769629,7769665,7769641,7769689,7769641,7769677,7769629,7769665,7769629,7769617,7769629,7769617,7769653,7769629,7769629,7769653,7769653,7769641,7769605,7769641,7769689,7769653,7769665,7769689,7769689,7769665,7769617,7769641,7769653,7769629,7769641,7769641,7769641,7769653,7769629,7769653,7769593,7769641,7769665,7769629,7769653,7769665,7769641,7769617,7769641,7769629,7769605,7769653,7769629,7769653,7769653,7769617,7769653,7769629,7769629,7769605,7769653,7769653,7769665,7769665,7769617,7769629,7769641,7769629,7769677,7769629,7769629,7769617,7769653,7769677,7769653,7769665,7769629,7769653,7769641,7769653,7769617,7769653,7769641,7769641,7769641,7769629,7769665,7769641,7769653,7769653,7769689,7769641,7769641,7769641,7769641,7769653,7769617,7769629,7769641,7769641,7769653,7769641,7769617,7769665,7769665,7769665,7769629,7769641,7769617,7769629,7769629,7769629,7769665,7769641,7769629,7769641,7769653,7769617,7769665,7769653,7769653,7769665,7769653,7769629,7769629,7769653,7769641,7769653,7769641,7769653,7769665,7769677,7769677,7769665,7769641,7769653,7769629,7769653,7769653,7769641,7769641,7769653,7769617,7769653,7769629,7769653,7769665,7769617,7769641,7769653,7769605,7769677,7769665,7769665,7769653,7769641,7769617,7769665,7769641,7769665,7769653,7769641,7769641,7769629,7769677,7769641,7769653,7769641,7769629,7769629,7769665,7769677,7769677,7769641,7769653,7769629,7769605,7769629,7769653,7769653,7769677,7769689,7769677,7769653,7769617,7769641,7769689,7769629,7769677,7769629,7769653,7769653,7769629,7769641,7769653,7769665,7769653,7769641,7769641,7769629,7769641,7769653,7769653,7769665,7769677,7769665,7769641,7769653,7769641,7769641,7769629,7769665,7769665,7769677,7769653,7769605,7769629,7769641,7769665,7769653,7769665,7769653,7769665,7769617,7769641,7769617,7769665,7769641,7769665,7769653,7769641,7769653,7769677,7769641,7769641,7769641,7769653,7769653,7769641,7769629,7769665,7769665,7769677,7769677,7769641,7769629,7769677,7769629,7769665,7769641,7769665,7769653,7769641,7769653,7769641,7769653,7769665,7769617,7769629,7769617,7769629,7769653,7769641,7769701,7769665,7769617,7769677,7769629,7769641,7769665,7769641,7769629,7769617,7769653,7769653,7769641,7769665,7769677,7769653,7769629,7769689,7769629,7769629,7769641,7769629,7769593,7769629,7769677,7769677,7769641,7769653,7769653,7769641,7769629,7769653,7769629,7769653,7769653,7769665,7769605,7769629,7769629,7769629,7769617,7769677,7769653,7769701,7769665,7769605,7769689,7769665,7769629,7769665,7769665,7769701,7769617,7769641,7769665,7769641,7769665,7769677,7769629,7769629,7769665,7769629,7769677,7769653,7769641,7769677,7769677,7769641,7769689,7769641,7769653,7769641,7769665,7769641,7769665,7769629,7769641,7769629,7769665,7769641,7769665,7769689,7769617,7769677,7769605,7769629,7769629,7769653,7769653,7769629,7769677,7769653,7769653,7769641,7769665,7769653,7769653,7769629,7769653,7769653,7769653,7769641,7769653,7769629,7769665,7769617,7769677,7769665,7769653,7769653,7769617,7769689,7769665,7769677,7769677,7769653,7769641,7769641,7769641,7769653,7769653,7769653,7769641,7769641,7769641,7769641,7769653,7769641,7769629,7769617,7769641,7769665,7769629,7769629,7769665,7769641,7769629,7769665,7769653,7769641,7769653,7769629,7769629,7769617,7769641,7769629,7769641,7769641,7769641,7769641,7769629,7769677,7769641,7769629,7769617,7769641,7769653,7769641,7769641,7769701,7769677,7769629,7769665,7769665,7769617,7769653,7769653,7769689,7769677,7769665,7769641,7769641,7769641,7769653,7769641,7769653,7769653,7769665,7769653,7769701,7769629,7769641,7769629,7769665,7769641,7769665,7769641,7769617,7769653,7769629,7769665,7769629,7769641,7769653,7769617,7769617,7769641,7769653,7769641,7769653,7769665,7769665,7769629,7769617,7769641,7769665,7769653,7769653,7769665,7769653,7769677,7769641,7769641,7769665,7769665,7769665,7769629,7769677,7769641,7769617,7769653,7769665,7769641,7769653,7769677,7769641,7769617,7769641,7769617,7769641,7769665,7769665,7769665,7769629,7769653,7769665,7769653,7769641,7769665,7769641,7769653,7769629,7769629,7769689,7769629,7769665,7769629,7769629,7769605,7769665,7769641,7769701,7769641,7769665,7769641,7769629,7769665,7769641,7769641,7769653,7769641,7769641,7769641,7769617,7769593,7769689,7769653,7769629,7769629,7769641,7769617,7769677,7769641,7769617,7769653,7769617,7769665,7769689,7769641,7769677,7769665,7769617,7769665,7769629,7769653,7769653,7769629,7769617,7769677,7769641,7769617,7769617,7769605,7769629,7769677,7769641,7769653,7769677,7769641,7769677,7769629,7769653,7769677,7769641,7769641,7769629,7769641,7769653,7769641,7769677,7769629,7769641,7769653,7769653,7769641,7769653,7769653,7769641,7769665,7769605,7769629,7769665,7769653,7769629,7769677,7769665,7769617,7769641,7769629,7769617,7769617,7769665,7769641,7769617,7769677,7769629,7769653,7769653,7769677,7769641,7769629,7769605,7769665,7769629,7769641,7769653,7769665,7769617,7769641,7769617,7769641,7769653,7769677,7769653,7769665,7769629,7769689,7769629,7769641,7769629,7769665,7769665,7769641,7769641,7769629,7769653,7769593,7769641,7769629,7769653,7769641,7769653,7769641,7769641,7769689,7769665,7769653,7769617,7769641,7769641,7769653,7769653,7769653,7769665,7769677,7769653,7769665,7769617,7769641,7769653,7769677,7769617,7769665,7769629,7769629,7769641,7769653,7769653,7769617,7769629,7769665,7769629,7769689,7769641,7769653,7769665,7769641,7769641,7769641,7769641,7769641,7769677,7769629,7769665,7769641,7769653,7769653,7769629,7769629,7769617,7769641,7769665,7769629,7769653,7769665,7769677,7769641,7769653,7769617,7769641,7769641,7769641,7769653,7769641,7769629,7769641,7769629,7769653,7769617,7769677,7769629,7769629,7769665,7769629,7769665,7769641,7769629,7769677,7769629,7769629,7769641,7769677,7769653,7769617,7769653,7769641,7769653,7769617,7769629,7769629,7769641,7769617,7769653,7769653,7769689,7769665,7769629,7769665,7769617,7769665,7769641,7769641,7769617,7769605,7769653,7769653,7769641,7769641,7769653,7769617,7769641,7769629,7769629,7769653,7769641,7769641,7769629,7769629,7769653,7769653,7769629,7769641,7769641,7769629,7769629,7769617,7769677,7769677,7769641,7769689,7769641,7769605,7769653,7769653,7769677,7769629,7769653,7769629,7769665,7769653,7769641,7769653,7769641,7769629,7769605,7769665,7769653,7769617,7769653,7769653,7769617,7769653,7769629,7769641,7769653,7769653,7769653,7769653,7769653,7769641,7769653,7769677,7769629,7769641,7769653,7769641,7769689,7769629,7769617,7769617,7769629,7769641,7769641,7769629,7769641,7769617,7769653,7769641,7769629,7769641,7769629,7769677,7769653,7769653,7769653,7769677,7769641,7769629,7769617,7769689,7769677,7769605,7769665,7769641,7769677,7769665,7769605,7769629,7769629,7769665,7769653,7769641,7769629,7769641,7769629,7769677,7769629,7769677,7769629,7769677,7769641,7769641,7769677,7769665,7769617,7769641,7769605,7769641,7769629,7769665,7769641,7769641,7769641,7769665,7769653,7769689,7769653,7769653,7769653,7769629,7769641,7769653,7769653,7769629,7769665,7769641,7769653,7769665,7769641,7769629,7769653,7769653,7769641,7769629,7769665,7769689,7769641,7769629,7769641,7769665,7769653,7769641,7769617,7769653]\n",
    "# len(gas_1000_9999)"
   ]
  },
  {
   "cell_type": "code",
   "execution_count": 31,
   "id": "74960f6b",
   "metadata": {},
   "outputs": [],
   "source": [
    "# import matplotlib.pyplot as plt\n",
    "# import numpy as np\n",
    "\n",
    "# # Data\n",
    "# gas_data = {\n",
    "#     '0-9': [7707045],\n",
    "#     '10-99': gas_10_99,\n",
    "#     '100-999': gas_100_999,\n",
    "#     '1000-9999': gas_1000_9999 \n",
    "# }\n",
    "\n",
    "# # Calculate means and standard deviations\n",
    "# means = [np.mean(gas_data[key]) for key in gas_data]\n",
    "# std_devs = [np.std(gas_data[key]) for key in gas_data]\n",
    "\n",
    "# # Plotting\n",
    "# plt.figure(figsize=(10, 6))\n",
    "# x_labels = list(gas_data.keys())\n",
    "# x_pos = np.arange(len(x_labels))\n",
    "\n",
    "# plt.bar(x_pos, means, yerr=std_devs, capsize=10, color=['b', 'g', 'r', 'c'])\n",
    "# plt.xticks(x_pos, x_labels)\n",
    "\n",
    "# # Set y-axis range\n",
    "# plt.ylim(7e6, 8e6)\n",
    "\n",
    "# plt.title('Average Gas Consumption with Standard Deviation')\n",
    "# plt.xlabel('Gas Consumption Range')\n",
    "# plt.ylabel('Gas Units')\n",
    "\n",
    "# plt.tight_layout()\n",
    "# plt.show()\n"
   ]
  },
  {
   "cell_type": "code",
   "execution_count": null,
   "id": "11869b28",
   "metadata": {},
   "outputs": [],
   "source": []
  },
  {
   "cell_type": "code",
   "execution_count": null,
   "id": "2a41a67b",
   "metadata": {},
   "outputs": [],
   "source": []
  },
  {
   "cell_type": "code",
   "execution_count": null,
   "id": "c569b5b1",
   "metadata": {},
   "outputs": [],
   "source": []
  }
 ],
 "metadata": {
  "celltoolbar": "Raw Cell Format",
  "kernelspec": {
   "display_name": "Python 3 (ipykernel)",
   "language": "python",
   "name": "python3"
  },
  "language_info": {
   "codemirror_mode": {
    "name": "ipython",
    "version": 3
   },
   "file_extension": ".py",
   "mimetype": "text/x-python",
   "name": "python",
   "nbconvert_exporter": "python",
   "pygments_lexer": "ipython3",
   "version": "3.10.9"
  }
 },
 "nbformat": 4,
 "nbformat_minor": 5
}
